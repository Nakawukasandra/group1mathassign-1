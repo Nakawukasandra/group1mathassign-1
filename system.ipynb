{
 "cells": [
  {
   "cell_type": "markdown",
   "metadata": {},
   "source": [
    "VECTORS,COMBINING AND SCALING"
   ]
  },
  {
   "cell_type": "code",
   "execution_count": 43,
   "metadata": {},
   "outputs": [
    {
     "name": "stdout",
     "output_type": "stream",
     "text": [
      "Standard Basis Vector:\n",
      " [[1. 0.]\n",
      " [0. 1.]]\n"
     ]
    }
   ],
   "source": [
    "# Vectors\n",
    "import numpy as np\n",
    "v = np.array([2, 1])\n",
    "# Create a 2x2 identity matrix representing the standard basis vectors\n",
    "basis = np.eye(2)\n",
    "print('Standard Basis Vector:\\n',basis)"
   ]
  },
  {
   "cell_type": "markdown",
   "metadata": {},
   "source": [
    "Find the standard basis vector for the same vector space"
   ]
  },
  {
   "cell_type": "code",
   "execution_count": 44,
   "metadata": {},
   "outputs": [
    {
     "data": {
      "text/plain": [
       "array([[1., 0., 0., 0.],\n",
       "       [0., 1., 0., 0.],\n",
       "       [0., 0., 1., 0.],\n",
       "       [0., 0., 0., 1.]])"
      ]
     },
     "execution_count": 44,
     "metadata": {},
     "output_type": "execute_result"
    }
   ],
   "source": [
    "\n",
    "\n",
    " \n",
    "u = np.array([6, 5, 8, 11])\n",
    " \n",
    "magnitude_u = np.linalg.norm(u)\n",
    "unit_vector_u = u / magnitude_u\n",
    " \n",
    "basis_vectors = []\n",
    "for i in range(len(unit_vector_u)):\n",
    "    if unit_vector_u[i] != 0:\n",
    "        basis_vectors.append(np.eye(len(unit_vector_u))[i])\n",
    " \n",
    "basis_vectors = np.array(basis_vectors)\n",
    "basis_vectors"
   ]
  },
  {
   "cell_type": "markdown",
   "metadata": {},
   "source": [
    "SYSTEM OF LINEAR EQUATRIONS AND INVERSE MATRICES"
   ]
  },
  {
   "cell_type": "code",
   "execution_count": 45,
   "metadata": {},
   "outputs": [],
   "source": [
    "# Solve the given system of equations using the inverse of a matrix.\n",
    "# 3x+8y=5 equestion 1\n",
    "# 4x+11y=7\n",
    "# ​\n",
    "\n"
   ]
  },
  {
   "cell_type": "code",
   "execution_count": 41,
   "metadata": {},
   "outputs": [
    {
     "name": "stdout",
     "output_type": "stream",
     "text": [
      "[[11. -8.]\n",
      " [-4.  3.]]\n"
     ]
    }
   ],
   "source": [
    "\n",
    "# Converting the matrix into an array\n",
    "matrix  = [[3, 8 ], [4, 11]]\n",
    "A = np.array(matrix)\n",
    "\n",
    "# Finding the inverse of A\n",
    "inv_A = np.linalg.inv(A)\n",
    "\n",
    "print(inv_A)"
   ]
  },
  {
   "cell_type": "code",
   "execution_count": 42,
   "metadata": {},
   "outputs": [
    {
     "name": "stdout",
     "output_type": "stream",
     "text": [
      "[-1.  1.]\n"
     ]
    }
   ],
   "source": [
    "# Converting matrix of B INTO AN ARRAY\n",
    "B = np.array([5, 7])\n",
    "#  finding the values for matrix X, using the dot product of the inverse of A and the matrix B\n",
    "X = np.linalg.inv(A).dot(B)\n",
    "print(X)"
   ]
  },
  {
   "cell_type": "code",
   "execution_count": null,
   "metadata": {},
   "outputs": [],
   "source": [
    "# 6a + 3b = 27    ## Equation2\n",
    "\n",
    "# 9a + 4b = 38"
   ]
  },
  {
   "cell_type": "code",
   "execution_count": 10,
   "metadata": {},
   "outputs": [
    {
     "name": "stdout",
     "output_type": "stream",
     "text": [
      "[[-1.33333333  1.        ]\n",
      " [ 3.         -2.        ]]\n"
     ]
    }
   ],
   "source": [
    "matrix  = [[6, 3], [9, 4]]\n",
    "\n",
    "A = np.array(matrix)\n",
    "inv_A = np.linalg.inv(A)\n",
    "\n",
    "print(inv_A)"
   ]
  },
  {
   "cell_type": "code",
   "execution_count": 9,
   "metadata": {},
   "outputs": [
    {
     "name": "stdout",
     "output_type": "stream",
     "text": [
      "[-7.  6.]\n"
     ]
    }
   ],
   "source": [
    "B = np.array([27,38])\n",
    "\n",
    "X = np.linalg.inv(A).dot(B)\n",
    "print(X)"
   ]
  },
  {
   "cell_type": "code",
   "execution_count": 11,
   "metadata": {},
   "outputs": [
    {
     "name": "stdout",
     "output_type": "stream",
     "text": [
      "[9, 18, 5]\n",
      "[16, 19, 12]\n",
      "[15, 18, 27]\n"
     ]
    }
   ],
   "source": [
    "# Matrix decomposition\n",
    "\n",
    "\n",
    "# Adition\n",
    "# Program to add two matrices using list comprehension\n",
    "#Find  A+2B\n",
    "\n",
    "X = [[-1,2,3],\n",
    "    [4 ,5,6],\n",
    "    [7 ,8,9]]\n",
    "\n",
    "Y = [[5,8,1],\n",
    "    [6,7,3],\n",
    "    [4,5,9]]\n",
    "\n",
    "result = [[X[i][j] + 2*Y[i][j]  for j in range(len(X[0]))] for i in range(len(X))]\n",
    "\n",
    "for r in result:\n",
    "   print(r)"
   ]
  },
  {
   "cell_type": "code",
   "execution_count": 47,
   "metadata": {},
   "outputs": [
    {
     "name": "stdout",
     "output_type": "stream",
     "text": [
      "[9, 18, 5]\n",
      "[16, 19, 12]\n",
      "[15, 18, 27]\n"
     ]
    }
   ],
   "source": [
    "# Matrix decomposition\n",
    "\n",
    "\n",
    "# subrtact\n",
    "#Find  A-B\n",
    "\n",
    "X = [[-1,2,3],\n",
    "    [4 ,5,6],\n",
    "    [7 ,8,9]]\n",
    "\n",
    "Y = [[5,8,1],\n",
    "    [6,7,3],\n",
    "    [4,5,9]]\n",
    "\n",
    "result = [[X[i][j] + 2*Y[i][j]  for j in range(len(X[0]))] for i in range(len(X))]\n",
    "\n",
    "for r in result:\n",
    "   print(r)"
   ]
  },
  {
   "cell_type": "markdown",
   "metadata": {},
   "source": [
    "DOT PRODUCT"
   ]
  },
  {
   "cell_type": "code",
   "execution_count": 13,
   "metadata": {},
   "outputs": [
    {
     "name": "stdout",
     "output_type": "stream",
     "text": [
      "32\n"
     ]
    }
   ],
   "source": [
    "\n",
    "\n",
    "# Define two arrays\n",
    "a = np.array([1, 2, 3])\n",
    "b = np.array([4, 5, 6])\n",
    "\n",
    "# Compute the dot product\n",
    "dot_product = np.dot(a, b)\n",
    "print(dot_product)  # Output: 32"
   ]
  },
  {
   "cell_type": "code",
   "execution_count": 14,
   "metadata": {},
   "outputs": [
    {
     "name": "stdout",
     "output_type": "stream",
     "text": [
      "[12 30 48]\n"
     ]
    }
   ],
   "source": [
    "# DOT PRODUCT OF AN ARRAY AND MATRIX\n",
    "# Define a matrix and an array\n",
    "matrix = np.array([[1, 2, 3], [4, 5, 6], [7, 8, 9]])\n",
    "array = np.array([2, 2, 2])\n",
    "\n",
    "# Compute the dot product\n",
    "dot_product = np.dot(matrix, array)\n",
    "print(dot_product)  # Output: [12 30 48]"
   ]
  }
 ],
 "metadata": {
  "kernelspec": {
   "display_name": "Python 3",
   "language": "python",
   "name": "python3"
  },
  "language_info": {
   "codemirror_mode": {
    "name": "ipython",
    "version": 3
   },
   "file_extension": ".py",
   "mimetype": "text/x-python",
   "name": "python",
   "nbconvert_exporter": "python",
   "pygments_lexer": "ipython3",
   "version": "3.11.4"
  }
 },
 "nbformat": 4,
 "nbformat_minor": 2
}
